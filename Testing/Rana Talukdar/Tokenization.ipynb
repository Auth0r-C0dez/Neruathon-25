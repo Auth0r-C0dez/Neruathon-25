{
  "nbformat": 4,
  "nbformat_minor": 0,
  "metadata": {
    "colab": {
      "provenance": [],
      "gpuType": "T4"
    },
    "kernelspec": {
      "name": "python3",
      "display_name": "Python 3"
    },
    "language_info": {
      "name": "python"
    },
    "accelerator": "GPU"
  },
  "cells": [
    {
      "cell_type": "code",
      "source": [
        "import json\n",
        "\n",
        "# Step 1: Tokenization\n",
        "def tokenize_input(input_text):\n",
        "    return input_text.split()\n",
        "\n",
        "# Step 2: Named Entity Recognition (NER)\n",
        "def extract_entities(tokens):\n",
        "    house_type = None\n",
        "    rooms = {}\n",
        "    spatial_relationships = []\n",
        "\n",
        "    # Define room types and keywords\n",
        "    room_types = [\"bedroom\", \"kitchen\", \"living room\", \"bathroom\"]\n",
        "    spatial_keywords = [\"next to\", \"on\", \"left\", \"right\", \"adjacent\"]\n",
        "\n",
        "    i = 0\n",
        "    while i < len(tokens):\n",
        "        token = tokens[i].lower()\n",
        "\n",
        "        # Extract house type (e.g., 3BHK)\n",
        "        if \"bhk\" in token:\n",
        "            house_type = token\n",
        "\n",
        "        # Extract room types and relationships\n",
        "        if token in room_types:\n",
        "            room_name = token\n",
        "            if i + 1 < len(tokens) and tokens[i + 1].isdigit():  # e.g., Bedroom 2\n",
        "                room_name += \" \" + tokens[i + 1]\n",
        "                i += 1\n",
        "            rooms[room_name] = {}\n",
        "\n",
        "        # Extract spatial relationships\n",
        "        if token in spatial_keywords:\n",
        "            if token == \"next\" and i + 1 < len(tokens) and tokens[i + 1] == \"to\":\n",
        "                spatial_relationships.append((\"next to\", tokens[i - 1], tokens[i + 2]))\n",
        "                i += 2\n",
        "            elif token == \"on\" and i + 2 < len(tokens) and tokens[i + 1] == \"the\":\n",
        "                spatial_relationships.append((\"position\", tokens[i - 1], tokens[i + 2]))\n",
        "                i += 2\n",
        "\n",
        "        i += 1\n",
        "\n",
        "    return house_type, rooms, spatial_relationships\n",
        "\n",
        "# Step 3: Convert to Structured JSON Format\n",
        "def create_json_structure(house_type, rooms, spatial_relationships):\n",
        "    structured_data = {\n",
        "        \"house_type\": house_type,\n",
        "        \"rooms\": rooms\n",
        "    }\n",
        "\n",
        "    for relationship in spatial_relationships:\n",
        "        rel_type, room1, room2 = relationship\n",
        "        room1 = room1.lower()  # Ensure room names are lowercase\n",
        "        room2 = room2.lower()  # Ensure room names are lowercase\n",
        "\n",
        "        if room1 in structured_data[\"rooms\"]:\n",
        "            if rel_type == \"next to\":\n",
        "                structured_data[\"rooms\"][room1][\"adjacent\"] = room2\n",
        "                if room2 in structured_data[\"rooms\"]:\n",
        "                    structured_data[\"rooms\"][room2][\"adjacent\"] = room1\n",
        "            elif rel_type == \"position\":\n",
        "                structured_data[\"rooms\"][room1][\"position\"] = room2\n",
        "\n",
        "    return json.dumps(structured_data, indent=4)\n",
        "\n",
        "# Main Function\n",
        "def main():\n",
        "    input_text = \"5BHK house with a bathtroom next to Bedroom 2 and the living room on the left side.\"\n",
        "\n",
        "    # Step 1: Tokenization\n",
        "    tokens = tokenize_input(input_text)\n",
        "    print(\"Tokens:\", tokens)\n",
        "\n",
        "    # Step 2: Named Entity Recognition (NER)\n",
        "    house_type, rooms, spatial_relationships = extract_entities(tokens)\n",
        "    print(\"House Type:\", house_type)\n",
        "    print(\"Rooms:\", rooms)\n",
        "    print(\"Spatial Relationships:\", spatial_relationships)\n",
        "\n",
        "    # Step 3: Convert to Structured JSON Format\n",
        "    structured_json = create_json_structure(house_type, rooms, spatial_relationships)\n",
        "    print(\"Structured JSON:\\n\", structured_json)\n",
        "\n",
        "# Run the program\n",
        "if __name__ == \"__main__\":\n",
        "    main()"
      ],
      "metadata": {
        "colab": {
          "base_uri": "https://localhost:8080/"
        },
        "id": "yP9eQG4blfiP",
        "outputId": "430dcaed-f3b1-4da2-99eb-90f3f88a5650"
      },
      "execution_count": null,
      "outputs": [
        {
          "output_type": "stream",
          "name": "stdout",
          "text": [
            "Tokens: ['5BHK', 'house', 'with', 'a', 'bathtroom', 'next', 'to', 'Bedroom', '2', 'and', 'the', 'living', 'room', 'on', 'the', 'left', 'side.']\n",
            "House Type: 5bhk\n",
            "Rooms: {'bedroom 2': {}}\n",
            "Spatial Relationships: [('position', 'room', 'left')]\n",
            "Structured JSON:\n",
            " {\n",
            "    \"house_type\": \"5bhk\",\n",
            "    \"rooms\": {\n",
            "        \"bedroom 2\": {}\n",
            "    }\n",
            "}\n"
          ]
        }
      ]
    },
    {
      "cell_type": "code",
      "source": [],
      "metadata": {
        "id": "iEm04UOHmQgZ"
      },
      "execution_count": null,
      "outputs": []
    }
  ]
}