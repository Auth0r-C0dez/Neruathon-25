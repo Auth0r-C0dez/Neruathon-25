{
  "nbformat": 4,
  "nbformat_minor": 0,
  "metadata": {
    "colab": {
      "provenance": []
    },
    "kernelspec": {
      "name": "python3",
      "display_name": "Python 3"
    },
    "language_info": {
      "name": "python"
    }
  },
  "cells": [
    {
      "cell_type": "code",
      "execution_count": null,
      "metadata": {
        "id": "SBasSgqTEYpg"
      },
      "outputs": [],
      "source": [
        "import requests\n",
        "from PIL import Image\n",
        "import numpy as np\n",
        "import os\n",
        "\n",
        "# Example API endpoint (replace with your actual API)\n",
        "API_URL = \"https://your-api-endpoint.com/generate_mask\"\n",
        "\n",
        "def generate_mask(image_path, output_mask_path):\n",
        "    # Send the image to the API\n",
        "    with open(image_path, \"rb\") as image_file:\n",
        "        response = requests.post(API_URL, files={\"image\": image_file})\n",
        "\n",
        "    # Save the mask returned by the API\n",
        "    if response.status_code == 200:\n",
        "        with open(output_mask_path, \"wb\") as mask_file:\n",
        "            mask_file.write(response.content)\n",
        "    else:\n",
        "        print(f\"Failed to generate mask for {image_path}\")\n",
        "\n",
        "# Example usage\n",
        "image_folder = \"/content/drive/MyDrive/dataset/images\"\n",
        "mask_folder = \"/content/drive/MyDrive/dataset/masks\"\n",
        "os.makedirs(mask_folder, exist_ok=True)\n",
        "\n",
        "for image_name in os.listdir(image_folder):\n",
        "    image_path = os.path.join(image_folder, image_name)\n",
        "    mask_path = os.path.join(mask_folder, f\"{os.path.splitext(image_name)[0]}_mask.png\")\n",
        "    generate_mask(image_path, mask_path)"
      ]
    },
    {
      "cell_type": "code",
      "source": [
        "import requests\n",
        "from PIL import Image\n",
        "import numpy as np\n",
        "import os\n",
        "\n",
        "# Example API endpoint (replace with your actual API)\n",
        "API_URL = \"https://your-api-endpoint.com/generate_mask\"\n",
        "\n",
        "def generate_mask(image_path, output_mask_path):\n",
        "    # Send the image to the API\n",
        "    with open(image_path, \"rb\") as image_file:\n",
        "        response = requests.post(API_URL, files={\"image\": image_file})\n",
        "\n",
        "    # Save the mask returned by the API\n",
        "    if response.status_code == 200:\n",
        "        with open(output_mask_path, \"wb\") as mask_file:\n",
        "            mask_file.write(response.content)\n",
        "    else:\n",
        "        print(f\"Failed to generate mask for {image_path}\")\n",
        "\n",
        "# Example usage\n",
        "image_folder = \"/content/drive/MyDrive/dataset/images\"\n",
        "mask_folder = \"/content/drive/MyDrive/dataset/masks\"\n",
        "os.makedirs(mask_folder, exist_ok=True)\n",
        "\n",
        "for image_name in os.listdir(image_folder):\n",
        "    image_path = os.path.join(image_folder, image_name)\n",
        "    mask_path = os.path.join(mask_folder, f\"{os.path.splitext(image_name)[0]}_mask.png\")\n",
        "    generate_mask(image_path, mask_path)"
      ],
      "metadata": {
        "colab": {
          "base_uri": "https://localhost:8080/",
          "height": 211
        },
        "id": "EapUbIPtK1rt",
        "outputId": "2da8c997-cf8d-4fad-e900-05477ea79364"
      },
      "execution_count": null,
      "outputs": [
        {
          "output_type": "error",
          "ename": "FileNotFoundError",
          "evalue": "[Errno 2] No such file or directory: '/content/drive/MyDrive/dataset/images'",
          "traceback": [
            "\u001b[0;31m---------------------------------------------------------------------------\u001b[0m",
            "\u001b[0;31mFileNotFoundError\u001b[0m                         Traceback (most recent call last)",
            "\u001b[0;32m<ipython-input-1-fbc08110818e>\u001b[0m in \u001b[0;36m<cell line: 0>\u001b[0;34m()\u001b[0m\n\u001b[1;32m     24\u001b[0m \u001b[0mos\u001b[0m\u001b[0;34m.\u001b[0m\u001b[0mmakedirs\u001b[0m\u001b[0;34m(\u001b[0m\u001b[0mmask_folder\u001b[0m\u001b[0;34m,\u001b[0m \u001b[0mexist_ok\u001b[0m\u001b[0;34m=\u001b[0m\u001b[0;32mTrue\u001b[0m\u001b[0;34m)\u001b[0m\u001b[0;34m\u001b[0m\u001b[0;34m\u001b[0m\u001b[0m\n\u001b[1;32m     25\u001b[0m \u001b[0;34m\u001b[0m\u001b[0m\n\u001b[0;32m---> 26\u001b[0;31m \u001b[0;32mfor\u001b[0m \u001b[0mimage_name\u001b[0m \u001b[0;32min\u001b[0m \u001b[0mos\u001b[0m\u001b[0;34m.\u001b[0m\u001b[0mlistdir\u001b[0m\u001b[0;34m(\u001b[0m\u001b[0mimage_folder\u001b[0m\u001b[0;34m)\u001b[0m\u001b[0;34m:\u001b[0m\u001b[0;34m\u001b[0m\u001b[0;34m\u001b[0m\u001b[0m\n\u001b[0m\u001b[1;32m     27\u001b[0m     \u001b[0mimage_path\u001b[0m \u001b[0;34m=\u001b[0m \u001b[0mos\u001b[0m\u001b[0;34m.\u001b[0m\u001b[0mpath\u001b[0m\u001b[0;34m.\u001b[0m\u001b[0mjoin\u001b[0m\u001b[0;34m(\u001b[0m\u001b[0mimage_folder\u001b[0m\u001b[0;34m,\u001b[0m \u001b[0mimage_name\u001b[0m\u001b[0;34m)\u001b[0m\u001b[0;34m\u001b[0m\u001b[0;34m\u001b[0m\u001b[0m\n\u001b[1;32m     28\u001b[0m     \u001b[0mmask_path\u001b[0m \u001b[0;34m=\u001b[0m \u001b[0mos\u001b[0m\u001b[0;34m.\u001b[0m\u001b[0mpath\u001b[0m\u001b[0;34m.\u001b[0m\u001b[0mjoin\u001b[0m\u001b[0;34m(\u001b[0m\u001b[0mmask_folder\u001b[0m\u001b[0;34m,\u001b[0m \u001b[0;34mf\"{os.path.splitext(image_name)[0]}_mask.png\"\u001b[0m\u001b[0;34m)\u001b[0m\u001b[0;34m\u001b[0m\u001b[0;34m\u001b[0m\u001b[0m\n",
            "\u001b[0;31mFileNotFoundError\u001b[0m: [Errno 2] No such file or directory: '/content/drive/MyDrive/dataset/images'"
          ]
        }
      ]
    },
    {
      "cell_type": "code",
      "source": [],
      "metadata": {
        "id": "mpai774OK2b3"
      },
      "execution_count": null,
      "outputs": []
    }
  ]
}